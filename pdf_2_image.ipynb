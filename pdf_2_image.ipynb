{
 "cells": [
  {
   "cell_type": "code",
   "execution_count": 22,
   "id": "turkish-drilling",
   "metadata": {},
   "outputs": [],
   "source": [
    "from pdf2image import convert_from_path, convert_from_bytes\n",
    "import os\n",
    "from pdf2image.exceptions import (\n",
    "    PDFInfoNotInstalledError,\n",
    "    PDFPageCountError,\n",
    "    PDFSyntaxError\n",
    ")"
   ]
  },
  {
   "cell_type": "code",
   "execution_count": 28,
   "id": "korean-fraction",
   "metadata": {},
   "outputs": [],
   "source": [
    "def convert(file_name):\n",
    "    count_jpg = 0\n",
    "    #pages = convert_from_path('./'+file_name)\n",
    "    pages = convert_from_bytes(open('./'+file_name, 'rb').read())\n",
    "    for page in pages:\n",
    "        page.save(file_name+'_'+str(count_jpg)+'.jpg', 'JPEG')\n",
    "        count_jpg+=1 \n",
    "    \n",
    "    return count_jpg"
   ]
  },
  {
   "cell_type": "code",
   "execution_count": 29,
   "id": "ongoing-olympus",
   "metadata": {},
   "outputs": [
    {
     "name": "stdout",
     "output_type": "stream",
     "text": [
      "a-detailed-analysis-on-nsl-kdd-dataset-using-various-machine-learning-techniques-for-intrusion-detection-IJERTV2IS120804.pdf\n",
      "All PDF files: 1\n",
      "All convert JPG: 6\n",
      "--------Finish PDF convert to JPG--------\n"
     ]
    }
   ],
   "source": [
    "count = 0\n",
    "count_pdf = 0\n",
    "for file in os.listdir('./'):\n",
    "    if file.endswith('.pdf'):\n",
    "        print(file)\n",
    "        count_pdf+=1\n",
    "        count += convert(file)\n",
    "print('All PDF files:',count_pdf)\n",
    "print('All convert JPG:',count)\n",
    "print('--------Finish PDF convert to JPG--------')"
   ]
  },
  {
   "cell_type": "code",
   "execution_count": null,
   "id": "ignored-pierre",
   "metadata": {},
   "outputs": [],
   "source": []
  }
 ],
 "metadata": {
  "kernelspec": {
   "display_name": "Python 3",
   "language": "python",
   "name": "python3"
  },
  "language_info": {
   "codemirror_mode": {
    "name": "ipython",
    "version": 3
   },
   "file_extension": ".py",
   "mimetype": "text/x-python",
   "name": "python",
   "nbconvert_exporter": "python",
   "pygments_lexer": "ipython3",
   "version": "3.7.9"
  }
 },
 "nbformat": 4,
 "nbformat_minor": 5
}
